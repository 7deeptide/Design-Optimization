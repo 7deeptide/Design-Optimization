{
 "cells": [
  {
   "cell_type": "markdown",
   "metadata": {},
   "source": [
    "### Problem 1.\n",
    "Minimize $f$ and find the optimum, $x^{*}$\n",
    "\n",
    "$$ f(x,u) = \\frac{1}{2} \\left(\\frac{x^2}{a^2} + \\frac{u^2}{b^2} \\right)$$\n",
    "\n",
    "subject to the constraint\n",
    "\n",
    "$$ g(x,u) = c -xu = 0.$$\n",
    "\n",
    "We can rewite the constraint $g_0$  in terms of $u$\n",
    "\n",
    "$$x = -\\frac{c}{u}$$\n",
    "\n",
    "$$u^2 \\left( \\frac{a^2u^2}{b^2} \\right) = c$$\n"
   ]
  },
  {
   "cell_type": "markdown",
   "metadata": {},
   "source": [
    "### Problem 2.\n",
    "Maximize V, where\n",
    "\n",
    "$$ V(x,y,z) = 8xyz$$\n",
    "\n",
    "subject to the constraint\n",
    "\n",
    "$$\\frac{x^2}{a^2} + \\frac{y^2}{b^2} + \\frac{z^2}{c^2}= 1$$"
   ]
  }
 ],
 "metadata": {
  "kernelspec": {
   "display_name": "Python 3",
   "language": "python",
   "name": "python3"
  },
  "language_info": {
   "codemirror_mode": {
    "name": "ipython",
    "version": 3
   },
   "file_extension": ".py",
   "mimetype": "text/x-python",
   "name": "python",
   "nbconvert_exporter": "python",
   "pygments_lexer": "ipython3",
   "version": "3.4.2"
  }
 },
 "nbformat": 4,
 "nbformat_minor": 0
}
